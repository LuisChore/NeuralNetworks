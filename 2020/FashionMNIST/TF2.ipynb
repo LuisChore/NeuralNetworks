{
  "nbformat": 4,
  "nbformat_minor": 0,
  "metadata": {
    "colab": {
      "name": "Tarea de la red_Vanilla  TF1.ipynb",
      "provenance": []
    },
    "kernelspec": {
      "display_name": "Python 3",
      "language": "python",
      "name": "python3"
    }
  },
  "cells": [
    {
      "cell_type": "markdown",
      "metadata": {
        "id": "4M5Lj0b9jNaG"
      },
      "source": [
        "# Fashion Mnist TF2\n",
        "\n",
        "\n",
        "\n"
      ]
    },
    {
      "cell_type": "code",
      "metadata": {
        "id": "kMHueSlQkIeY"
      },
      "source": [
        "%tensorflow_version 2.x "
      ],
      "execution_count": 1,
      "outputs": []
    },
    {
      "cell_type": "code",
      "metadata": {
        "id": "eH3DG58ijNaH"
      },
      "source": [
        "import tensorflow as tf\n",
        "import numpy as np\n",
        "import matplotlib.pyplot as plt\n",
        "%matplotlib inline\n",
        "\n",
        "from sklearn.preprocessing import OneHotEncoder"
      ],
      "execution_count": 2,
      "outputs": []
    },
    {
      "cell_type": "markdown",
      "metadata": {
        "id": "3_r9CetUjNaM"
      },
      "source": [
        "# 1. Import Data Set\n"
      ]
    },
    {
      "cell_type": "code",
      "metadata": {
        "id": "c_aVHNInjNaM"
      },
      "source": [
        "from tensorflow.keras.datasets.fashion_mnist import load_data\n",
        "fashion_mnist = load_data()\n",
        "(x_train, y_train), (x_test, y_test)=fashion_mnist"
      ],
      "execution_count": 3,
      "outputs": []
    },
    {
      "cell_type": "markdown",
      "metadata": {
        "id": "mGN2wvozl2xk"
      },
      "source": [
        "## Explore the data"
      ]
    },
    {
      "cell_type": "code",
      "metadata": {
        "colab": {
          "base_uri": "https://localhost:8080/",
          "height": 350
        },
        "id": "gQ_7flMAlYU_",
        "outputId": "0d1b9e81-85e0-431c-f7f3-68c69fefdd9c"
      },
      "source": [
        "print(x_train.shape)\n",
        "print(x_test.shape)\n",
        "print(y_train.shape)\n",
        "print(y_test.shape)\n",
        "imagedemo = x_train[0]\n",
        "plt.imshow(imagedemo,cmap='gray')"
      ],
      "execution_count": 4,
      "outputs": [
        {
          "output_type": "stream",
          "text": [
            "(60000, 28, 28)\n",
            "(10000, 28, 28)\n",
            "(60000,)\n",
            "(10000,)\n"
          ],
          "name": "stdout"
        },
        {
          "output_type": "execute_result",
          "data": {
            "text/plain": [
              "<matplotlib.image.AxesImage at 0x7fa7e5a16550>"
            ]
          },
          "metadata": {
            "tags": []
          },
          "execution_count": 4
        },
        {
          "output_type": "display_data",
          "data": {
            "image/png": "[encoded data removed]",
            "text/plain": [
              "<Figure size 432x288 with 1 Axes>"
            ]
          },
          "metadata": {
            "tags": [],
            "needs_background": "light"
          }
        }
      ]
    },
    {
      "cell_type": "code",
      "metadata": {
        "colab": {
          "base_uri": "https://localhost:8080/"
        },
        "id": "AVBkf-j6m5Cf",
        "outputId": "7449eac9-bf2f-48a7-de0e-614dff8855f5"
      },
      "source": [
        "\n",
        "def print_image(img):\n",
        "  s = '\\n'.join([''.join(['{:4}'.format(int(round(item * 255))) for item in row]) for row in img])\n",
        "  print(s)\n",
        "\n",
        "print_image(imagedemo)"
      ],
      "execution_count": 5,
      "outputs": [
        {
          "output_type": "stream",
          "text": [
            "   0   0   0   0   0   0   0   0   0   0   0   0   0   0   0   0   0   0   0   0   0   0   0   0   0   0   0   0\n",
            "   0   0   0   0   0   0   0   0   0   0   0   0   0   0   0   0   0   0   0   0   0   0   0   0   0   0   0   0\n",
            "   0   0   0   0   0   0   0   0   0   0   0   0   0   0   0   0   0   0   0   0   0   0   0   0   0   0   0   0\n",
            "   0   0   0   0   0   0   0   0   0   0   0   0 255   0   0331518615   0   0 2551020   0   0   0   0 255 255   0\n",
            "   0   0   0   0   0   0   0   0   0   0   0   0 765   0918034680323851581013770   0   0   0 255 7651020   0   0 765\n",
            "   0   0   0   0   0   0   0   0   0   0   0   01530   02601052020448803417036720313655865   0   0   0   030602550   0\n",
            "   0   0   0   0   0   0   0   0   0   0   0   0   0   039525601805278545390272853978041055277951632058651963533150183603825\n",
            "   0   0   0   0   0   0   0   0   0   0   0 255   0175955278556865555905508055080415653238530855311103723035955224404386016830\n",
            "   0   0   0   0   0   0   0   0   0 255 255 255   05100059160591605941558395568655686554825543154182032385313654998058395   0\n",
            "   0   0   0   0   0   0   0   0   0   0   0   0   04666557375550805686558140599255788557120566105712056355568656247544115   0\n",
            "   0   0   0   0   0   0   0   0   0   0   0   0   04921558140555905431550490459005406053550538055431556865561006196551510   0\n",
            "   0   0   0   0   0   0   0   0   0 255 765   03060558455610054060555904896043095578855304055590571205406057630502355329513260\n",
            "   0   0   0   0   0   0   0   0   0   01530   025245622205661056100555905176550490563555482554315566105610062475303454258514280\n",
            "   0   0   0   0   0   0   0   0   01020   0   0140256018058140586505814061200591605431555590568655967055335553355329523460   0\n",
            "   0   0 255102015301785 510   0   0   0   0   0604355763055335568655661055845566105635555080568655839554825555906502519635   0\n",
            "   0 765   0   0   0   0   0   0   0158103697552020581405278554315563555559053040538055559057120568655584554825571206222040545   0\n",
            "   0   0   0   0459011220209102728548195581405610056610553355763051000522755380558650571205967044880479406375063240594156069054825   0\n",
            "   01453547685530405712056355571205304052020545705304053295510004054562475492155253056865650256502556355596705635553805561005916062730   0\n",
            " 7655151058140571205635553805538055457052275522755227556100612002040038250650255839556355479403927048705535505202053295566105814057375   0\n",
            "2499059415504905355056610583955839559670634955610049470548255533561455165751861527030298354284055845563555482555335568655686557120583957395\n",
            "19125520205406052020492155227553805573755508047175502355253050490543156120049725578856247560945568655559054060532955661056100563555865017085\n",
            "12240517654666549470543155023547175484504947048960515105457055845563555610060180573755508050745525304743046155451354386046155522755253029325\n",
            "   0311105584549215456454360546665499805202053550543155278553805535505100049980494704870549725487055049048960448803978042585451355355023460\n",
            "   0   018870481955406048705446254386044625461554717547940481954794049215504905202053295535505355053805479404794049470489605508043350   0\n",
            " 510   0   0   016830510005661060435609456171062730619656222056355561004921548705456454641046410461554488042330428402524514790   0   0\n",
            "   0   0   0   0   0   0   010200155551122018360104558925   0   0   0   0   0   0   0   0   0   0   0   0   0   0   0\n",
            "   0   0   0   0   0   0   0   0   0   0   0   0   0   0   0   0   0   0   0   0   0   0   0   0   0   0   0   0\n",
            "   0   0   0   0   0   0   0   0   0   0   0   0   0   0   0   0   0   0   0   0   0   0   0   0   0   0   0   0\n"
          ],
          "name": "stdout"
        }
      ]
    },
    {
      "cell_type": "markdown",
      "metadata": {
        "id": "goJ9a1QPnQCR"
      },
      "source": [
        "## Prepare the input"
      ]
    },
    {
      "cell_type": "code",
      "metadata": {
        "colab": {
          "base_uri": "https://localhost:8080/"
        },
        "id": "XR1IIvg7nSAs",
        "outputId": "59516347-f2c7-490a-af24-6ac1f39180a3"
      },
      "source": [
        "x_train = x_train.reshape(-1,28*28).astype('float32')\n",
        "x_test = x_test.reshape(-1,28*28).astype('float32')\n",
        "print(x_train.shape)\n",
        "print(x_test.shape)"
      ],
      "execution_count": 6,
      "outputs": [
        {
          "output_type": "stream",
          "text": [
            "(60000, 784)\n",
            "(10000, 784)\n"
          ],
          "name": "stdout"
        }
      ]
    },
    {
      "cell_type": "markdown",
      "metadata": {
        "id": "GgXS_pO7oCdB"
      },
      "source": [
        "## Prepare the output"
      ]
    },
    {
      "cell_type": "code",
      "metadata": {
        "colab": {
          "base_uri": "https://localhost:8080/"
        },
        "id": "g8NlnhBzoE4y",
        "outputId": "9a11beef-7476-4a47-d89a-8b8a18133995"
      },
      "source": [
        "#ONE HOT\n",
        "onehot_encoder = OneHotEncoder(sparse=False)\n",
        "y_train = y_train.reshape(len(y_train),1)\n",
        "y_train_onehot = onehot_encoder.fit_transform(y_train)\n",
        "\n",
        "y_test = y_test.reshape(len(y_test),1)\n",
        "y_test_one_hot = onehot_encoder.fit_transform(y_test)\n",
        "y_train_onehot.shape"
      ],
      "execution_count": 7,
      "outputs": [
        {
          "output_type": "execute_result",
          "data": {
            "text/plain": [
              "(60000, 10)"
            ]
          },
          "metadata": {
            "tags": []
          },
          "execution_count": 7
        }
      ]
    },
    {
      "cell_type": "markdown",
      "metadata": {
        "id": "yYlOslkLodX8"
      },
      "source": [
        "# 2. Set up the architecture\n",
        "  "
      ]
    },
    {
      "cell_type": "code",
      "metadata": {
        "colab": {
          "base_uri": "https://localhost:8080/"
        },
        "id": "JTU9FztdohNM",
        "outputId": "37772605-168e-4e83-e58c-70aa3ad7412d"
      },
      "source": [
        "class DNN_Model(object):\n",
        "  def __init__(self,\n",
        "              n_nodes_input = 784,\n",
        "              n_nodes_hl1 = 500,\n",
        "              n_nodes_hl2 = 500,\n",
        "              n_nodes_hl3 = 500,\n",
        "              n_classes = 10):\n",
        "    # Declare DNN Variables with numpy\n",
        "    self.hl1W = tf.Variable(np.random.rand(n_nodes_input,n_nodes_hl1),name = \"hl1weights\",dtype = \"float32\")\n",
        "    self.hl1B = tf.Variable(np.random.rand(n_nodes_hl1),name = \"hl1bias\",dtype = \"float32\")\n",
        "    self.hl2W = tf.Variable(np.random.rand(n_nodes_hl1,n_nodes_hl2),name = \"hl2weights\",dtype = \"float32\")\n",
        "    self.hl2B = tf.Variable(np.random.rand(n_nodes_hl2),name = \"hl2bias\",dtype = \"float32\")\n",
        "    self.hl3W = tf.Variable(np.random.rand(n_nodes_hl2,n_nodes_hl3),name = \"hl3weights\",dtype = \"float32\")\n",
        "    self.hl3B = tf.Variable(np.random.rand(n_nodes_hl3),name = \"hl3bias\",dtype = \"float32\")\n",
        "    self.outW = tf.Variable(np.random.rand(n_nodes_hl3,n_classes),name = \"outweights\",dtype = \"float32\")\n",
        "    self.outB = tf.Variable(np.random.rand(n_classes),name = \"outbias\",dtype = \"float32\")\n",
        "    # Auxiliar List\n",
        "    self.trainable_variables = [self.hl1W,self.hl1B,self.hl2W,self.hl2B,self.hl3W,self.hl3B,self.outW,self.outB]\n",
        "\n",
        "  def __call__(self,x):\n",
        "    # Declare architecture\n",
        "    l1 = tf.add(tf.matmul(x,self.hl1W),self.hl1B)\n",
        "    l1 = tf.nn.relu(l1)\n",
        "\n",
        "    l2 = tf.add(tf.matmul(l1,self.hl2W),self.hl2B)\n",
        "    l2 = tf.nn.relu(l2)\n",
        "\n",
        "    l3 = tf.add(tf.matmul(l2,self.hl3W),self.hl3B)\n",
        "    l3 = tf.nn.relu(l3)\n",
        "\n",
        "    output = tf.add(tf.matmul(l3,self.outW),self.outB)\n",
        "\n",
        "    return output\n",
        "\n",
        "\n",
        "DNN = DNN_Model()   # model declaration\n",
        "DNN(x_train[24:30]) # forward propagation\n",
        "\n"
      ],
      "execution_count": 8,
      "outputs": [
        {
          "output_type": "execute_result",
          "data": {
            "text/plain": [
              "<tf.Tensor: shape=(6, 10), dtype=float32, numpy=\n",
              "array([[7.0784726e+11, 6.9356133e+11, 7.2840754e+11, 7.0671807e+11,\n",
              "        6.7418849e+11, 6.9263740e+11, 6.8085966e+11, 7.2332607e+11,\n",
              "        7.1355263e+11, 6.7796363e+11],\n",
              "       [5.1667173e+11, 5.0624450e+11, 5.3167922e+11, 5.1584768e+11,\n",
              "        4.9210353e+11, 5.0557026e+11, 4.9697305e+11, 5.2796988e+11,\n",
              "        5.2083622e+11, 4.9485903e+11],\n",
              "       [5.8271708e+11, 5.7095723e+11, 5.9964326e+11, 5.8178804e+11,\n",
              "        5.5500885e+11, 5.7019662e+11, 5.6050051e+11, 5.9545977e+11,\n",
              "        5.8741457e+11, 5.5811663e+11],\n",
              "       [8.5779441e+11, 8.4048282e+11, 8.8271041e+11, 8.5642602e+11,\n",
              "        8.1700585e+11, 8.3936267e+11, 8.2509011e+11, 8.7655186e+11,\n",
              "        8.6470859e+11, 8.2158079e+11],\n",
              "       [4.7039575e+11, 4.6090237e+11, 4.8405889e+11, 4.6964546e+11,\n",
              "        4.4802798e+11, 4.6028813e+11, 4.5246133e+11, 4.8068205e+11,\n",
              "        4.7418730e+11, 4.5053680e+11],\n",
              "       [7.4129021e+11, 7.2632985e+11, 7.6282239e+11, 7.4010801e+11,\n",
              "        7.0604135e+11, 7.2536189e+11, 7.1302768e+11, 7.5750035e+11,\n",
              "        7.4726520e+11, 7.0999500e+11]], dtype=float32)>"
            ]
          },
          "metadata": {
            "tags": []
          },
          "execution_count": 8
        }
      ]
    },
    {
      "cell_type": "markdown",
      "metadata": {
        "id": "TMRx0Ki9DPaq"
      },
      "source": [
        "# 3. Choose Optimizer & Metrics"
      ]
    },
    {
      "cell_type": "code",
      "metadata": {
        "id": "S3gCDHxzDXTl"
      },
      "source": [
        "'''Optmizer'''\n",
        "#optimizer = tf.keras.optimizers.Adam(learning_rate = 0.001)\n",
        "optimizer = tf.compat.v1.train.AdamOptimizer(learning_rate=0.001)\n",
        "\n",
        "'''Metrics'''\n",
        "# Declare which one is going to be our cost function \n",
        "train_loss = tf.keras.metrics.Mean(name='train_loss')\n",
        "train_accuracy = tf.keras.metrics.CategoricalAccuracy(name='train_accuracy')\n",
        "\n",
        "test_loss = tf.keras.metrics.Mean(name='test_loss')\n",
        "test_accuracy = tf.keras.metrics.CategoricalAccuracy(name='test_accuracy')"
      ],
      "execution_count": 9,
      "outputs": []
    },
    {
      "cell_type": "markdown",
      "metadata": {
        "id": "sWG16S6X13H1"
      },
      "source": [
        "# 4. Training & Testing Function"
      ]
    },
    {
      "cell_type": "code",
      "metadata": {
        "id": "qUteNQ_UqQ_f"
      },
      "source": [
        "@tf.function #NON EAGER EXECUTION\n",
        "def train_step(model,data,labels):\n",
        "  with tf.GradientTape() as tape: # in tape the gradients are going to be saved\n",
        "    predictions = model(data) # forward propagation\n",
        "    loss = tf.reduce_mean(tf.nn.softmax_cross_entropy_with_logits(labels,predictions)) # compute cost function\n",
        "\n",
        "  #optimize\n",
        "  gradients = tape.gradient(loss,model.trainable_variables)\n",
        "  capped_grads_and_vars = [(grad,model.trainable_variables[index]) for index,grad in enumerate(gradients)]\n",
        "  #adjust variables\n",
        "  optimizer.apply_gradients(capped_grads_and_vars)\n",
        "  train_loss(loss)\n",
        "  train_accuracy(labels,predictions)"
      ],
      "execution_count": 10,
      "outputs": []
    },
    {
      "cell_type": "code",
      "metadata": {
        "id": "JiKSmLuwD7qY"
      },
      "source": [
        "@tf.function\n",
        "def test_step(model,data,labels):\n",
        "  predictions = model(data)\n",
        "  loss = tf.reduce_mean(tf.nn.softmax_cross_entropy_with_logits(labels,predictions))\n",
        "  test_loss(loss)\n",
        "  test_accuracy(labels,predictions)"
      ],
      "execution_count": 11,
      "outputs": []
    },
    {
      "cell_type": "code",
      "metadata": {
        "id": "p4aeKbG-EA53"
      },
      "source": [
        "\n",
        "\n",
        "def fitting(model,train_x,train_y,test_x,test_y,epochs,n_batch,batch_size):\n",
        "  for epoch in range(epochs):\n",
        "    i = 0\n",
        "    while i + batch_size < len(train_x) or i + batch_size < batch_size * n_batch:\n",
        "      start = i\n",
        "      end = start + batch_size\n",
        "      batch_x = train_x[start:end]\n",
        "      batch_y = train_y[start:end]\n",
        "      train_step(model,batch_x,batch_y)\n",
        "      i += batch_size\n",
        "    test_step(model,test_x,test_y)\n",
        "    template = 'Epoch {},Loss:{},Accuracy:{},Test Loss:{}, Test Accuracy:{}'\n",
        "    print(template.format(epoch+1,\n",
        "                          train_loss.result(),\n",
        "                          train_accuracy.result()*100,\n",
        "                          test_loss.result(),\n",
        "                          test_accuracy.result() * 100))\n",
        "    train_loss.reset_states() \n",
        "    train_accuracy.reset_states()\n",
        "    \n",
        "    test_loss.reset_states()\n",
        "    test_accuracy.reset_states()\n"
      ],
      "execution_count": 12,
      "outputs": []
    },
    {
      "cell_type": "code",
      "metadata": {
        "id": "xOEE_JaWEF8k",
        "outputId": "ec3e970c-62d0-4d9a-e704-daeb50e4fcc1",
        "colab": {
          "base_uri": "https://localhost:8080/"
        }
      },
      "source": [
        "fitting(DNN,x_train,y_train_onehot,x_test,y_test_one_hot,10,600,100)"
      ],
      "execution_count": 13,
      "outputs": [
        {
          "output_type": "stream",
          "text": [
            "Epoch 1,Loss:765523456.0,Accuracy:9.858097076416016,Test Loss:364167776.0, Test Accuracy:10.0\n",
            "Epoch 2,Loss:200801600.0,Accuracy:10.373956680297852,Test Loss:92108840.0, Test Accuracy:10.0\n",
            "Epoch 3,Loss:44204744.0,Accuracy:14.467445373535156,Test Loss:5501475.5, Test Accuracy:30.59000015258789\n",
            "Epoch 4,Loss:4020954.5,Accuracy:40.8664436340332,Test Loss:1398236.0, Test Accuracy:54.94999694824219\n",
            "Epoch 5,Loss:1319014.0,Accuracy:56.22203826904297,Test Loss:2127148.0, Test Accuracy:48.09000015258789\n",
            "Epoch 6,Loss:678173.875,Accuracy:64.16527557373047,Test Loss:388360.1875, Test Accuracy:69.05000305175781\n",
            "Epoch 7,Loss:408527.21875,Accuracy:68.93990325927734,Test Loss:241184.0, Test Accuracy:72.43999481201172\n",
            "Epoch 8,Loss:194618.625,Accuracy:74.237060546875,Test Loss:158377.453125, Test Accuracy:73.11000061035156\n",
            "Epoch 9,Loss:105946.328125,Accuracy:76.2587661743164,Test Loss:85605.6484375, Test Accuracy:76.77000427246094\n",
            "Epoch 10,Loss:49966.03125,Accuracy:78.72621154785156,Test Loss:53319.27734375, Test Accuracy:73.22000122070312\n"
          ],
          "name": "stdout"
        }
      ]
    },
    {
      "cell_type": "code",
      "metadata": {
        "id": "spo3e07vjNaj"
      },
      "source": [
        "label_dict = {\n",
        " 0: \"T-shirt/top\",\n",
        " 1: \"Trouser\",\n",
        " 2: \"Pullover\",\n",
        " 3: \"Dress\",\n",
        " 4: \"Coat\",\n",
        " 5: \"Sandal\",\n",
        " 6: \"Shirt\",\n",
        " 7: \"Sneaker\",\n",
        " 8: \"Bag\",\n",
        " 9: \"Ankle boot\"\n",
        "}"
      ],
      "execution_count": 14,
      "outputs": []
    }
  ]
}