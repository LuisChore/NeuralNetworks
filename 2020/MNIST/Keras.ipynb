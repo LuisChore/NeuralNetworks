{
  "nbformat": 4,
  "nbformat_minor": 0,
  "metadata": {
    "colab": {
      "name": "Keras.ipynb",
      "provenance": []
    },
    "kernelspec": {
      "name": "python3",
      "display_name": "Python 3"
    }
  },
  "cells": [
    {
      "cell_type": "markdown",
      "metadata": {
        "id": "4mD1M_YP6ciM"
      },
      "source": [
        "\n",
        "# MNIST in Keras\n",
        "\n"
      ]
    },
    {
      "cell_type": "code",
      "metadata": {
        "id": "lPr1XBGq6mln"
      },
      "source": [
        "%tensorflow_version 2.x"
      ],
      "execution_count": 1,
      "outputs": []
    },
    {
      "cell_type": "code",
      "metadata": {
        "id": "6WZ34Gga6t6E"
      },
      "source": [
        "import tensorflow as tf\n",
        "import numpy as np \n",
        "import matplotlib.pyplot as plt\n",
        "%matplotlib inline \n",
        "from sklearn.preprocessing import LabelEncoder\n",
        "from sklearn.preprocessing import OneHotEncoder"
      ],
      "execution_count": 2,
      "outputs": []
    },
    {
      "cell_type": "markdown",
      "metadata": {
        "id": "ymbdAmhK7016"
      },
      "source": [
        "# 1. Import Data Set"
      ]
    },
    {
      "cell_type": "code",
      "metadata": {
        "id": "e_niIJnn741d"
      },
      "source": [
        "mnist = tf.keras.datasets.mnist\n",
        "(x_train,y_train),(x_test,y_test) = mnist.load_data()"
      ],
      "execution_count": 3,
      "outputs": []
    },
    {
      "cell_type": "markdown",
      "metadata": {
        "id": "MIf97To08Unt"
      },
      "source": [
        "## Checking the Data"
      ]
    },
    {
      "cell_type": "code",
      "metadata": {
        "colab": {
          "base_uri": "https://localhost:8080/",
          "height": 316
        },
        "id": "SJiHQ-tq8JGI",
        "outputId": "368233bd-738d-4fe6-f873-3451c700a6b2"
      },
      "source": [
        "print(y_train.shape)\n",
        "print(x_train.shape)\n",
        "imagedemo = x_train[24]\n",
        "plt.imshow(imagedemo,cmap='gray')"
      ],
      "execution_count": 4,
      "outputs": [
        {
          "output_type": "stream",
          "text": [
            "(60000,)\n",
            "(60000, 28, 28)\n"
          ],
          "name": "stdout"
        },
        {
          "output_type": "execute_result",
          "data": {
            "text/plain": [
              "<matplotlib.image.AxesImage at 0x7f7e040504a8>"
            ]
          },
          "metadata": {
            "tags": []
          },
          "execution_count": 4
        },
        {
          "output_type": "display_data",
          "data": {
            "image/png": "[encoded data removed]",
            "text/plain": [
              "<Figure size 432x288 with 1 Axes>"
            ]
          },
          "metadata": {
            "tags": [],
            "needs_background": "light"
          }
        }
      ]
    },
    {
      "cell_type": "code",
      "metadata": {
        "colab": {
          "base_uri": "https://localhost:8080/"
        },
        "id": "saI55sTe8nS4",
        "outputId": "c9fe97a0-b8c6-4e73-852b-c18608c38c11"
      },
      "source": [
        "def print_image(img):\n",
        "  s = '\\n'.join([''.join(['{:4}'.format(int(round(item * 255))) for item in row]) for row in img])\n",
        "  print(s)\n",
        "\n",
        "print_image(imagedemo)"
      ],
      "execution_count": 5,
      "outputs": [
        {
          "output_type": "stream",
          "text": [
            "   0   0   0   0   0   0   0   0   0   0   0   0   0   0   0   0   0   0   0   0   0   0   0   0   0   0   0   0\n",
            "   0   0   0   0   0   0   0   0   0   0   0   0   0   0   0   0   0   0   0   0   0   0   0   0   0   0   0   0\n",
            "   0   0   0   0   0   0   0   0   0   0   0   0   0   0   0   0   0   0   0   0   0   0   0   0   0   0   0   0\n",
            "   0   0   0   0   0   0   0   0   0   0   0   0   0   0   0423305661014025   0   0   0   0   0   0   0   0   0   0\n",
            "   0   0   0   0   0   0   0   0   0   0   0   0   0   0   05023564770555901275   0   0   0   0   0   0   0   0   0\n",
            "   0   0   0   0   0   0   0   0   0   0   0   0   0   073956349564770647702295   0   0   0   0   0   0   0   0   0\n",
            "   0   0   0   0   0   0   0   0   0   0   0   0   0   011475647706477044370 510   0   0   0   0   0   0   0   0   0\n",
            "   0   0   0   0   0   0   0   0   0   0   0   0   0102041820647706477021675   0   0   0   0   0   0   0   0   0   0\n",
            "   0   0   0   0   0   0   0   0   0   0   0   0   03723064770647706477021675   0   0   0   0   0   0   0   0   0   0\n",
            "   0   0   0   0   0   0   0   0   0   0   0   0257556247564770647706477021675   0   0   0   0   0   0   0   0   0   0\n",
            "   0   0   0   0   0   0   0   0   0   0   024735632406477052020647706477021675   0   0   0   0   0   0   0   0   0   0\n",
            "   0   0   0   0   0   03060150452499038505604356477064770277958925647706477021675   0   0   0   0   0   0   0   0   0   0\n",
            "   0   0   0   0   0   0104555508064770647706094539015943510208160647706477021675   0   0   0   0   0   0   0   0   0   0\n",
            "   0   0   0   0   0   0   0178511220112207650   0   0   08160647706477024480   0   0   0   0   0   0   0   0   0   0\n",
            "   0   0   0   0   0   0   0   0   0   0   0   0   0   04845586506477044370   0   0   0   0   0   0   0   0   0   0\n",
            "   0   0   0   0   0   0   0   0   0   0   0   0   0   0   0502356477028050   0   0   0   0   0   0   0   0   0   0\n",
            "   0   0   0   0   0   0   0   0   0   0   0   0   0   0   0502356477021675   0   0   0   0   0   0   0   0   0   0\n",
            "   0   0   0   0   0   0   0   0   0   0   0   0   0   0   0502356451516065   0   0   0   0   0   0   0   0   0   0\n",
            "   0   0   0   0   0   0   0   0   0   094351377013770114756630214205635521420535579054131019890   0   0   0   0   0   0\n",
            "   0   0   0   0   0   0   015301045535955622206477064770632406018064770647706477059415609456477035190   0   0   0   0   0   0\n",
            "   0   0   0   0   0   05865425856477064770647706477058395581404717535190351903519035190351903519011220   0   0   0   0   0   0\n",
            "   0   0   0   0   0   02881564770647706477045645163201275   0   0   0   0   0   0   0   0   0   0   0   0   0   0   0\n",
            "   0   0   0   0   0   08160532954666524735   0   0   0   0   0   0   0   0   0   0   0   0   0   0   0   0   0   0\n",
            "   0   0   0   0   0   0   0   0   0   0   0   0   0   0   0   0   0   0   0   0   0   0   0   0   0   0   0   0\n",
            "   0   0   0   0   0   0   0   0   0   0   0   0   0   0   0   0   0   0   0   0   0   0   0   0   0   0   0   0\n",
            "   0   0   0   0   0   0   0   0   0   0   0   0   0   0   0   0   0   0   0   0   0   0   0   0   0   0   0   0\n",
            "   0   0   0   0   0   0   0   0   0   0   0   0   0   0   0   0   0   0   0   0   0   0   0   0   0   0   0   0\n",
            "   0   0   0   0   0   0   0   0   0   0   0   0   0   0   0   0   0   0   0   0   0   0   0   0   0   0   0   0\n"
          ],
          "name": "stdout"
        }
      ]
    },
    {
      "cell_type": "code",
      "metadata": {
        "colab": {
          "base_uri": "https://localhost:8080/"
        },
        "id": "ChcBmNi0A6lB",
        "outputId": "6c0ab607-8d7f-48a7-d543-dc4de5fd57c1"
      },
      "source": [
        "''' Reshape the input for the DNN '''\n",
        "# Only TF1 had tools for preprocessing, now all is with numpy and sklearn\n",
        "x_train = x_train.reshape(-1,28*28).astype('float32')  # in TF2 is important the data type for TF2 \n",
        "x_test = x_test.reshape(-1,28*28).astype('float32')\n",
        "print(x_train.shape)\n",
        "x_train"
      ],
      "execution_count": 6,
      "outputs": [
        {
          "output_type": "stream",
          "text": [
            "(60000, 784)\n"
          ],
          "name": "stdout"
        },
        {
          "output_type": "execute_result",
          "data": {
            "text/plain": [
              "array([[0., 0., 0., ..., 0., 0., 0.],\n",
              "       [0., 0., 0., ..., 0., 0., 0.],\n",
              "       [0., 0., 0., ..., 0., 0., 0.],\n",
              "       ...,\n",
              "       [0., 0., 0., ..., 0., 0., 0.],\n",
              "       [0., 0., 0., ..., 0., 0., 0.],\n",
              "       [0., 0., 0., ..., 0., 0., 0.]], dtype=float32)"
            ]
          },
          "metadata": {
            "tags": []
          },
          "execution_count": 6
        }
      ]
    },
    {
      "cell_type": "code",
      "metadata": {
        "colab": {
          "base_uri": "https://localhost:8080/"
        },
        "id": "tFPaRz3YBEbp",
        "outputId": "ce7147fc-caf8-483d-a0d3-db7c85d17148"
      },
      "source": [
        "''' Codify the outputs from CATEGORICAL to ONE HOT '''\n",
        "onehot_encoder = OneHotEncoder(sparse=False)\n",
        "y_train = y_train.reshape(len(y_train),1)\n",
        "y_train_onehot = onehot_encoder.fit_transform(y_train)\n",
        "\n",
        "y_test = y_test.reshape(len(y_test),1)\n",
        "y_test_one_hot = onehot_encoder.fit_transform(y_test)\n",
        "y_train_onehot.shape"
      ],
      "execution_count": 7,
      "outputs": [
        {
          "output_type": "execute_result",
          "data": {
            "text/plain": [
              "(60000, 10)"
            ]
          },
          "metadata": {
            "tags": []
          },
          "execution_count": 7
        }
      ]
    },
    {
      "cell_type": "markdown",
      "metadata": {
        "id": "-Ii32po7B2eb"
      },
      "source": [
        "# 2. Set up the architecture\n"
      ]
    },
    {
      "cell_type": "markdown",
      "metadata": {
        "id": "MeFiDx0yEYKp"
      },
      "source": [
        "## Sequential Keras"
      ]
    },
    {
      "cell_type": "code",
      "metadata": {
        "id": "5to5asvuB5GD"
      },
      "source": [
        "model = tf.keras.Sequential() # create Keras object\n",
        "model.add(tf.keras.layers.Dense(500,input_shape=(784,),activation='relu')) #indicate the input\n",
        "model.add(tf.keras.layers.Dense(500,activation='relu'))\n",
        "model.add(tf.keras.layers.Dense(500,activation='relu'))\n",
        "model.add(tf.keras.layers.Dense(10))"
      ],
      "execution_count": 8,
      "outputs": []
    },
    {
      "cell_type": "markdown",
      "metadata": {
        "id": "oHMRPNC9EdVE"
      },
      "source": [
        "## Cost Function, Optimizer, Metrics "
      ]
    },
    {
      "cell_type": "code",
      "metadata": {
        "id": "vpG1Q4UoElUS"
      },
      "source": [
        "model.compile(optimizer=tf.keras.optimizers.Adam(0.001),loss=tf.keras.losses.binary_crossentropy,metrics = ['accuracy'])"
      ],
      "execution_count": 9,
      "outputs": []
    },
    {
      "cell_type": "markdown",
      "metadata": {
        "id": "9c6-J9I6FbLU"
      },
      "source": [
        "# 3. Training & Testing Functions"
      ]
    },
    {
      "cell_type": "code",
      "metadata": {
        "colab": {
          "base_uri": "https://localhost:8080/"
        },
        "id": "A7i6UI3XFDq7",
        "outputId": "c929d4e9-d6d4-4ace-8e1a-f562f3a727e7"
      },
      "source": [
        "model.fit(x = x_train, y = y_train_onehot,batch_size=100,epochs=10,validation_data=(x_test,y_test_one_hot))"
      ],
      "execution_count": 11,
      "outputs": [
        {
          "output_type": "stream",
          "text": [
            "Epoch 1/10\n",
            "600/600 [==============================] - 10s 17ms/step - loss: 1.5425 - accuracy: 0.0987 - val_loss: 1.5425 - val_accuracy: 0.0980\n",
            "Epoch 2/10\n",
            "600/600 [==============================] - 10s 17ms/step - loss: 1.5425 - accuracy: 0.0987 - val_loss: 1.5425 - val_accuracy: 0.0980\n",
            "Epoch 3/10\n",
            "600/600 [==============================] - 10s 17ms/step - loss: 1.5425 - accuracy: 0.0987 - val_loss: 1.5425 - val_accuracy: 0.0980\n",
            "Epoch 4/10\n",
            "600/600 [==============================] - 10s 17ms/step - loss: 1.5425 - accuracy: 0.0987 - val_loss: 1.5425 - val_accuracy: 0.0980\n",
            "Epoch 5/10\n",
            "600/600 [==============================] - 10s 17ms/step - loss: 1.5425 - accuracy: 0.0987 - val_loss: 1.5425 - val_accuracy: 0.0980\n",
            "Epoch 6/10\n",
            "600/600 [==============================] - 10s 17ms/step - loss: 1.5425 - accuracy: 0.0987 - val_loss: 1.5425 - val_accuracy: 0.0980\n",
            "Epoch 7/10\n",
            "600/600 [==============================] - 10s 17ms/step - loss: 1.5425 - accuracy: 0.0987 - val_loss: 1.5425 - val_accuracy: 0.0980\n",
            "Epoch 8/10\n",
            "600/600 [==============================] - 10s 16ms/step - loss: 1.5425 - accuracy: 0.0987 - val_loss: 1.5425 - val_accuracy: 0.0980\n",
            "Epoch 9/10\n",
            "600/600 [==============================] - 10s 17ms/step - loss: 1.5425 - accuracy: 0.0987 - val_loss: 1.5425 - val_accuracy: 0.0980\n",
            "Epoch 10/10\n",
            "600/600 [==============================] - 10s 17ms/step - loss: 1.5425 - accuracy: 0.0987 - val_loss: 1.5425 - val_accuracy: 0.0980\n"
          ],
          "name": "stdout"
        },
        {
          "output_type": "execute_result",
          "data": {
            "text/plain": [
              "<tensorflow.python.keras.callbacks.History at 0x7f7dfd37c240>"
            ]
          },
          "metadata": {
            "tags": []
          },
          "execution_count": 11
        }
      ]
    }
  ]
}