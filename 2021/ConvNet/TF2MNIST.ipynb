{
  "nbformat": 4,
  "nbformat_minor": 0,
  "metadata": {
    "colab": {
      "name": "ConvNetTF2.ipynb",
      "provenance": [],
      "collapsed_sections": []
    },
    "kernelspec": {
      "name": "python3",
      "display_name": "Python 3"
    }
  },
  "cells": [
    {
      "cell_type": "markdown",
      "metadata": {
        "id": "UFM5tInHg03P"
      },
      "source": [
        "# ConvNet MNIST Tensorflow2"
      ]
    },
    {
      "cell_type": "code",
      "metadata": {
        "id": "jcbhXlg3g1Hm"
      },
      "source": [
        "  %tensorflow_version 2.x\n",
        "  import tensorflow as tf\n",
        "  import numpy as np \n",
        "  import matplotlib.pyplot as plt \n",
        "  from sklearn.preprocessing import OneHotEncoder\n",
        "  %matplotlib inline \n"
      ],
      "execution_count": 1,
      "outputs": []
    },
    {
      "cell_type": "markdown",
      "metadata": {
        "id": "DyRvk2xsjQ0x"
      },
      "source": [
        "# 1. Import dataset"
      ]
    },
    {
      "cell_type": "code",
      "metadata": {
        "id": "Xkdid2-GhlAU"
      },
      "source": [
        "mnist = tf.keras.datasets.mnist\n",
        "(x_train,y_train),(x_test,y_test) = mnist.load_data()"
      ],
      "execution_count": 2,
      "outputs": []
    },
    {
      "cell_type": "markdown",
      "metadata": {
        "id": "BSZ5tZu8jUbz"
      },
      "source": [
        "### Checking the data\n"
      ]
    },
    {
      "cell_type": "code",
      "metadata": {
        "colab": {
          "base_uri": "https://localhost:8080/",
          "height": 334
        },
        "id": "oH9vTidPjZf1",
        "outputId": "db93f45f-b001-48c7-a953-0b6455f5e65f"
      },
      "source": [
        "print(y_train.shape)\n",
        "print(x_train.shape)\n",
        "print(y_train[133])\n",
        "imagedemo = x_train[133]\n",
        "plt.imshow(imagedemo,cmap = 'gray')"
      ],
      "execution_count": 3,
      "outputs": [
        {
          "output_type": "stream",
          "text": [
            "(60000,)\n",
            "(60000, 28, 28)\n",
            "9\n"
          ],
          "name": "stdout"
        },
        {
          "output_type": "execute_result",
          "data": {
            "text/plain": [
              "<matplotlib.image.AxesImage at 0x7f3004ad8748>"
            ]
          },
          "metadata": {
            "tags": []
          },
          "execution_count": 3
        },
        {
          "output_type": "display_data",
          "data": {
            "image/png": "[encoded data removed]",
            "text/plain": [
              "<Figure size 432x288 with 1 Axes>"
            ]
          },
          "metadata": {
            "tags": [],
            "needs_background": "light"
          }
        }
      ]
    },
    {
      "cell_type": "markdown",
      "metadata": {
        "id": "ZvKMBP5GnXbV"
      },
      "source": [
        "### Preprocessing\n"
      ]
    },
    {
      "cell_type": "code",
      "metadata": {
        "colab": {
          "base_uri": "https://localhost:8080/"
        },
        "id": "ZG-FsRlBncFI",
        "outputId": "377e33b3-ee59-4215-b73f-5d7167c189e0"
      },
      "source": [
        "# one hot enconding\n",
        "onehot_encoder = OneHotEncoder(sparse=False)\n",
        "y_train = y_train.reshape(len(y_train),1)\n",
        "y_train_onehot = onehot_encoder.fit_transform(y_train)\n",
        "\n",
        "y_test = y_test.reshape(len(y_test),1)\n",
        "y_test_onehot = onehot_encoder.fit_transform(y_test)\n",
        "y_train_onehot.shape"
      ],
      "execution_count": 4,
      "outputs": [
        {
          "output_type": "execute_result",
          "data": {
            "text/plain": [
              "(60000, 10)"
            ]
          },
          "metadata": {
            "tags": []
          },
          "execution_count": 4
        }
      ]
    },
    {
      "cell_type": "markdown",
      "metadata": {
        "id": "pigwJHvwqfyg"
      },
      "source": [
        "# 2. Set up Architecture"
      ]
    },
    {
      "cell_type": "markdown",
      "metadata": {
        "id": "5HtmawbusGm_"
      },
      "source": [
        "### ConvNet functions"
      ]
    },
    {
      "cell_type": "code",
      "metadata": {
        "id": "49rCEFU-sK7R"
      },
      "source": [
        "# doesn't reduce the image size\n",
        "def conv2d(x,W,strides,padding,name = None):\n",
        "  '''\n",
        "    filters: window_size * depth * output_size \n",
        "  '''\n",
        "  return tf.nn.conv2d(input = x,filters = W,strides = strides,padding = padding,name = name)\n",
        "\n",
        "# reduce size of the image to the half \n",
        "def max_pool2d(x,ks,st):\n",
        "  '''\n",
        "    ksize = [batch,x,y,depth] ; filter size for maxpooling \n",
        "  '''\n",
        "  return tf.nn.max_pool(input = x,ksize = ks,strides = st,padding = 'SAME')"
      ],
      "execution_count": 5,
      "outputs": []
    },
    {
      "cell_type": "code",
      "metadata": {
        "colab": {
          "base_uri": "https://localhost:8080/"
        },
        "id": "w3YS0Yzx0Mwx",
        "outputId": "aceaf4ff-6a3b-4548-e4d0-9d08f6d7f2a1"
      },
      "source": [
        "class DNN_Model(object):\n",
        "  def __init__(self,\n",
        "               n_classes = 10):\n",
        "    ''' First convolution kernel '''\n",
        "    # (5,5,1) size of the conv window, 1 because is B&W\n",
        "    # 32 is the size of the new dimention. it represents the number of filters\n",
        "    self.hl1W = tf.Variable(np.random.rand(5,5,1,32),name = 'hl1weights',dtype = 'float32')\n",
        "    self.hl1B = tf.Variable(np.random.rand(32),name = 'hl1bias', dtype = 'float32')\n",
        "    \n",
        "    ''' Second convolution kernel ''' \n",
        "    # (5,5,32) size of the conv window, 32 because is the current dimention\n",
        "    # 64 is the size of the new dimention. it represents the number of filters\n",
        "    self.hl2W = tf.Variable(np.random.rand(5,5,32,64),name = 'hl2weights',dtype = 'float32')\n",
        "    self.hl2B = tf.Variable(np.random.rand(64),name = 'hl2bias', dtype = 'float32')\n",
        "\n",
        "    ''' DNN '''\n",
        "    self.hl3W = tf.Variable(np.random.rand(7 * 7 * 64, 1024),name = 'hl3weights',dtype = 'float32')\n",
        "    self.hl3B = tf.Variable(np.random.rand(1024),name = 'hl3bias',dtype = 'float32')\n",
        "\n",
        "    self.outW = tf.Variable(np.random.rand(1024,10),name = 'outweights', dtype = 'float32')\n",
        "    self.outB = tf.Variable(np.random.rand(10),name = 'outbias', dtype = 'float32')\n",
        "    \n",
        "    self.trainable_variables = [self.hl1W,self.hl1B,self.hl2W,self.hl2B,self.hl3W,self.hl3B,self.outW,self.outB]\n",
        "\n",
        "  def __call__(self,x):\n",
        "    x = tf.cast(x,tf.float32)\n",
        "    img = tf.reshape(x,shape=[-1,28 , 28, 1])\n",
        "    # -1 correspond to the batch index, batch number is respeted by -1 value\n",
        "\n",
        "    ''' Conv layers '''\n",
        "    #stride = [batch_stride = 1 (image by image, without skip any),x,y,filter_stride = 1]\n",
        "    #  => (28*28*1)\n",
        "    l1 = conv2d(img,self.hl1W,[1,1,1,1],'SAME') \n",
        "    l1 = tf.add(l1,self.hl1B)\n",
        "    l1 = tf.nn.relu(l1)\n",
        "    l1 = max_pool2d(l1,[1,2,2,1],[1,2,2,1])\n",
        "    # (14*14*32) =>\n",
        "\n",
        "    # => (14*14*32)\n",
        "    l2 = conv2d(l1,self.hl2W,[1,1,1,1],'SAME')\n",
        "    l2 = tf.add(l2,self.hl2B)\n",
        "    l2 = tf.nn.relu(l2)\n",
        "    l2 = max_pool2d(l2,[1,2,2,1],[1,2,2,1])\n",
        "    # (7*7*64) =>\n",
        "\n",
        "    ''' Flatten '''\n",
        "    l2 = tf.reshape(l2,[-1,7*7*64])\n",
        "\n",
        "    ''' DNN ''' \n",
        "    l3 = tf.add(tf.matmul(l2,self.hl3W),self.hl3B)\n",
        "    l3 = tf.nn.relu(l3)\n",
        "\n",
        "    output = tf.add(tf.matmul(l3,self.outW),self.outB)\n",
        "\n",
        "    return output\n",
        "\n",
        "DNN = DNN_Model()   # model declaration\n",
        "DNN(x_train[24:30]) # forward propagation"
      ],
      "execution_count": 6,
      "outputs": [
        {
          "output_type": "execute_result",
          "data": {
            "text/plain": [
              "<tf.Tensor: shape=(6, 10), dtype=float32, numpy=\n",
              "array([[1.73788381e+11, 1.82537208e+11, 1.89222699e+11, 1.83482139e+11,\n",
              "        1.77060348e+11, 1.79049038e+11, 1.79505365e+11, 1.82959948e+11,\n",
              "        1.82869066e+11, 1.79857949e+11],\n",
              "       [3.06972066e+11, 3.22445804e+11, 3.34207025e+11, 3.24107665e+11,\n",
              "        3.12743690e+11, 3.16289253e+11, 3.17093577e+11, 3.23200942e+11,\n",
              "        3.22984280e+11, 3.17695525e+11],\n",
              "       [1.13032380e+11, 1.18727328e+11, 1.23080761e+11, 1.19337689e+11,\n",
              "        1.15169370e+11, 1.16457275e+11, 1.16752409e+11, 1.18989734e+11,\n",
              "        1.18967198e+11, 1.16992426e+11],\n",
              "       [3.41313978e+11, 3.58483296e+11, 3.71595510e+11, 3.60357134e+11,\n",
              "        3.47727462e+11, 3.51646908e+11, 3.52533217e+11, 3.59340442e+11,\n",
              "        3.59096254e+11, 3.53232519e+11],\n",
              "       [3.13743770e+11, 3.29572155e+11, 3.41587296e+11, 3.31286020e+11,\n",
              "        3.19638798e+11, 3.23278668e+11, 3.24099572e+11, 3.30318774e+11,\n",
              "        3.30111844e+11, 3.24719477e+11],\n",
              "       [1.35164207e+11, 1.41958906e+11, 1.47174277e+11, 1.42685929e+11,\n",
              "        1.37720627e+11, 1.39251466e+11, 1.39593941e+11, 1.42286062e+11,\n",
              "        1.42232601e+11, 1.39884757e+11]], dtype=float32)>"
            ]
          },
          "metadata": {
            "tags": []
          },
          "execution_count": 6
        }
      ]
    },
    {
      "cell_type": "markdown",
      "metadata": {
        "id": "lQWoUKanL0mw"
      },
      "source": [
        "# 3. Choose Optimizer & Metrics\n"
      ]
    },
    {
      "cell_type": "code",
      "metadata": {
        "id": "L8_kFJsy_KDD"
      },
      "source": [
        "''' Optimizer '''\n",
        "optimizer = tf.compat.v1.train.AdamOptimizer(learning_rate=0.01)\n",
        "\n",
        "''' Metrics '''\n",
        "train_loss = tf.keras.metrics.Mean(name = 'train_loss')\n",
        "train_accuracy = tf.keras.metrics.CategoricalAccuracy(name = 'train_accuracy')\n",
        "\n",
        "test_loss = tf.keras.metrics.Mean(name = 'test_loss')\n",
        "test_accuracy = tf.keras.metrics.CategoricalAccuracy(name = 'test_accuracy')"
      ],
      "execution_count": 7,
      "outputs": []
    },
    {
      "cell_type": "markdown",
      "metadata": {
        "id": "SsOqfRLTMt4h"
      },
      "source": [
        "\n",
        "# 4. Training & Testing\n"
      ]
    },
    {
      "cell_type": "code",
      "metadata": {
        "id": "m7qSZDAPMwP7"
      },
      "source": [
        "# compute gradient and adjust weights and biases \n",
        "@tf.function #compile\n",
        "def train_step(model,data,labels):\n",
        "  with tf.GradientTape() as tape: # memory to save gradients\n",
        "    predictions = model(data)     # forward propagation\n",
        "    loss = tf.reduce_mean(tf.nn.softmax_cross_entropy_with_logits(labels,predictions)) # compute error\n",
        "  \n",
        "  gradients = tape.gradient(loss,model.trainable_variables) #compute gradients with respect with 'trainable_variables'\n",
        "  grads_and_vars_pairs = [(grad,model.trainable_variables[index]) for index,grad in enumerate(gradients)]\n",
        "  optimizer.apply_gradients(grads_and_vars_pairs) # adjust weights and biases\n",
        "\n",
        "  ''' compute metrics '''\n",
        "  train_loss(loss)\n",
        "  train_accuracy(labels,predictions)"
      ],
      "execution_count": 8,
      "outputs": []
    },
    {
      "cell_type": "code",
      "metadata": {
        "id": "FieKZ74uTNPf"
      },
      "source": [
        "@tf.function\n",
        "def test_step(model,data,labels):\n",
        "  predictions = model(data)\n",
        "  loss = tf.reduce_mean(tf.nn.softmax_cross_entropy_with_logits(labels,predictions))\n",
        "  \n",
        "  test_loss(loss)\n",
        "  test_accuracy(labels,predictions)"
      ],
      "execution_count": 9,
      "outputs": []
    },
    {
      "cell_type": "code",
      "metadata": {
        "id": "KcgnLBd2Tlcm"
      },
      "source": [
        "def fitting(model,train_x,train_y,test_x,test_y,epochs,n_batch,batch_size):\n",
        "  for epoch in range(epochs):\n",
        "    i = 0\n",
        "    while i + batch_size < len(train_x) or i + batch_size < batch_size * n_batch:\n",
        "      start = i \n",
        "      end = i + batch_size \n",
        "      batch_x = train_x[start:end]\n",
        "      batch_y = train_y[start:end]\n",
        "      train_step(model,batch_x,batch_y)\n",
        "      i += batch_size \n",
        "    test_step(model,test_x,test_y)\n",
        "    template = 'Epoch {},Loss:{},Accuracy:{},Test Loss:{}, Test Accuracy:{}'\n",
        "    print(template.format(epoch+1,\n",
        "                          train_loss.result(),\n",
        "                          train_accuracy.result()*100,\n",
        "                          test_loss.result(),\n",
        "                          test_accuracy.result() * 100))\n",
        "    train_loss.reset_states() \n",
        "    train_accuracy.reset_states()\n",
        "    \n",
        "    test_loss.reset_states()\n",
        "    test_accuracy.reset_states()"
      ],
      "execution_count": 10,
      "outputs": []
    },
    {
      "cell_type": "code",
      "metadata": {
        "colab": {
          "base_uri": "https://localhost:8080/"
        },
        "id": "_VGNo1BvUy0R",
        "outputId": "253b12f2-081d-4203-dc65-dfe62dfac8db"
      },
      "source": [
        "fitting(DNN,x_train,y_train_onehot,x_test,y_test_onehot,10,600,100)"
      ],
      "execution_count": 11,
      "outputs": [
        {
          "output_type": "stream",
          "text": [
            "Epoch 1,Loss:277404480.0,Accuracy:60.711185455322266,Test Loss:1322910.25, Test Accuracy:71.93000030517578\n",
            "Epoch 2,Loss:928010.0625,Accuracy:73.46577453613281,Test Loss:538629.3125, Test Accuracy:74.98999786376953\n",
            "Epoch 3,Loss:214721.671875,Accuracy:82.87979888916016,Test Loss:240383.359375, Test Accuracy:74.76000213623047\n",
            "Epoch 4,Loss:59510.87109375,Accuracy:87.82137298583984,Test Loss:36335.37890625, Test Accuracy:89.1300048828125\n",
            "Epoch 5,Loss:21549.5390625,Accuracy:90.99665832519531,Test Loss:17452.88671875, Test Accuracy:90.01000213623047\n",
            "Epoch 6,Loss:10263.2197265625,Accuracy:92.54090118408203,Test Loss:7322.0576171875, Test Accuracy:93.69000244140625\n",
            "Epoch 7,Loss:6070.01611328125,Accuracy:93.7228775024414,Test Loss:5052.68798828125, Test Accuracy:94.18000030517578\n",
            "Epoch 8,Loss:4206.89892578125,Accuracy:94.34056854248047,Test Loss:3888.464111328125, Test Accuracy:94.73999786376953\n",
            "Epoch 9,Loss:2966.377197265625,Accuracy:94.97161865234375,Test Loss:2668.124755859375, Test Accuracy:95.56999969482422\n",
            "Epoch 10,Loss:2225.27197265625,Accuracy:95.47579193115234,Test Loss:2304.845703125, Test Accuracy:95.68000030517578\n"
          ],
          "name": "stdout"
        }
      ]
    }
  ]
}